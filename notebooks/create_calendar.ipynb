{
 "cells": [
  {
   "cell_type": "code",
   "execution_count": 1,
   "metadata": {},
   "outputs": [],
   "source": [
    "import boto3"
   ]
  },
  {
   "cell_type": "code",
   "execution_count": null,
   "metadata": {},
   "outputs": [],
   "source": [
    "personal = boto3.session.Session(profile_name='personal')\n",
    "s3 = personal.client('s3')\n",
    "\n",
    "s3.Bucket('ntonthat-apple-health-data')"
   ]
  }
 ],
 "metadata": {
  "kernelspec": {
   "display_name": "apple-health-calendar",
   "language": "python",
   "name": "apple-health-calendar"
  },
  "language_info": {
   "codemirror_mode": {
    "name": "ipython",
    "version": 3
   },
   "file_extension": ".py",
   "mimetype": "text/x-python",
   "name": "python",
   "nbconvert_exporter": "python",
   "pygments_lexer": "ipython3",
   "version": "3.9.16"
  },
  "orig_nbformat": 4
 },
 "nbformat": 4,
 "nbformat_minor": 2
}
