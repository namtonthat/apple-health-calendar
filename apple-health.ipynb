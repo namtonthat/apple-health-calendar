{
 "cells": [
  {
   "cell_type": "code",
   "execution_count": 1,
   "metadata": {},
   "outputs": [],
   "source": [
    "import pandas as pd \n",
    "import os \n",
    "from json import loads, dumps"
   ]
  },
  {
   "cell_type": "code",
   "execution_count": 2,
   "metadata": {},
   "outputs": [],
   "source": [
    "# change working directory \n",
    "os.chdir('/Users/ntonthat/Library/Mobile Documents/iCloud~com~ifunography~HealthExport/Documents/2022/June/2022-06-24/')"
   ]
  },
  {
   "cell_type": "code",
   "execution_count": null,
   "metadata": {},
   "outputs": [],
   "source": []
  },
  {
   "cell_type": "code",
   "execution_count": 25,
   "metadata": {},
   "outputs": [],
   "source": [
    "d = pd.read_json('HealthAutoExport-2022-06-24.json', orient='index')"
   ]
  },
  {
   "cell_type": "code",
   "execution_count": 50,
   "metadata": {},
   "outputs": [],
   "source": [
    "single_value = pd.json_normalize(d['metrics'])[0][0]"
   ]
  },
  {
   "cell_type": "code",
   "execution_count": 67,
   "metadata": {},
   "outputs": [],
   "source": [
    "import numpy as np"
   ]
  },
  {
   "cell_type": "code",
   "execution_count": 69,
   "metadata": {},
   "outputs": [
    {
     "data": {
      "text/plain": [
       "94"
      ]
     },
     "execution_count": 69,
     "metadata": {},
     "output_type": "execute_result"
    }
   ],
   "source": [
    "len(pd.json_normalize(d['metrics']).columns)"
   ]
  },
  {
   "cell_type": "code",
   "execution_count": 77,
   "metadata": {},
   "outputs": [
    {
     "data": {
      "text/html": [
       "<div>\n",
       "<style scoped>\n",
       "    .dataframe tbody tr th:only-of-type {\n",
       "        vertical-align: middle;\n",
       "    }\n",
       "\n",
       "    .dataframe tbody tr th {\n",
       "        vertical-align: top;\n",
       "    }\n",
       "\n",
       "    .dataframe thead th {\n",
       "        text-align: right;\n",
       "    }\n",
       "</style>\n",
       "<table border=\"1\" class=\"dataframe\">\n",
       "  <thead>\n",
       "    <tr style=\"text-align: right;\">\n",
       "      <th></th>\n",
       "      <th>0</th>\n",
       "      <th>1</th>\n",
       "      <th>2</th>\n",
       "      <th>3</th>\n",
       "      <th>4</th>\n",
       "      <th>5</th>\n",
       "      <th>6</th>\n",
       "      <th>7</th>\n",
       "      <th>8</th>\n",
       "      <th>9</th>\n",
       "      <th>...</th>\n",
       "      <th>84</th>\n",
       "      <th>85</th>\n",
       "      <th>86</th>\n",
       "      <th>87</th>\n",
       "      <th>88</th>\n",
       "      <th>89</th>\n",
       "      <th>90</th>\n",
       "      <th>91</th>\n",
       "      <th>92</th>\n",
       "      <th>93</th>\n",
       "    </tr>\n",
       "  </thead>\n",
       "  <tbody>\n",
       "    <tr>\n",
       "      <th>0</th>\n",
       "      <td>{'name': 'active_energy', 'units': 'kJ', 'data...</td>\n",
       "      <td>{'data': [{'qty': 1, 'date': '2022-06-24 07:23...</td>\n",
       "      <td>{'data': [{'qty': 1, 'date': '2022-06-24 05:00...</td>\n",
       "      <td>{'units': 'min', 'data': [{'date': '2022-06-24...</td>\n",
       "      <td>{'units': 'degC', 'name': 'basal_body_temperat...</td>\n",
       "      <td>{'data': [{'date': '2022-06-24 00:10:00 +1000'...</td>\n",
       "      <td>{'name': 'blood_alcohol_content', 'units': '%'...</td>\n",
       "      <td>{'data': [], 'units': 'mmol/L', 'name': 'blood...</td>\n",
       "      <td>{'units': '%', 'name': 'blood_oxygen_saturatio...</td>\n",
       "      <td>{'units': 'mmHg', 'name': 'blood_pressure', 'd...</td>\n",
       "      <td>...</td>\n",
       "      <td>{'data': [], 'units': 'cm', 'name': 'waist_cir...</td>\n",
       "      <td>{'name': 'walking_running_distance', 'data': [...</td>\n",
       "      <td>{'units': '%', 'data': [{'qty': 0, 'date': '20...</td>\n",
       "      <td>{'units': '%', 'name': 'walking_double_support...</td>\n",
       "      <td>{'data': [{'date': '2022-06-24 00:04:00 +1000'...</td>\n",
       "      <td>{'name': 'walking_speed', 'units': 'km/hr', 'd...</td>\n",
       "      <td>{'data': [{'qty': 61, 'date': '2022-06-24 06:1...</td>\n",
       "      <td>{'name': 'weight_body_mass', 'units': 'kg', 'd...</td>\n",
       "      <td>{'units': 'km', 'data': [], 'name': 'wheelchai...</td>\n",
       "      <td>{'units': 'mg', 'data': [], 'name': 'zinc'}</td>\n",
       "    </tr>\n",
       "  </tbody>\n",
       "</table>\n",
       "<p>1 rows × 94 columns</p>\n",
       "</div>"
      ],
      "text/plain": [
       "                                                  0   \\\n",
       "0  {'name': 'active_energy', 'units': 'kJ', 'data...   \n",
       "\n",
       "                                                  1   \\\n",
       "0  {'data': [{'qty': 1, 'date': '2022-06-24 07:23...   \n",
       "\n",
       "                                                  2   \\\n",
       "0  {'data': [{'qty': 1, 'date': '2022-06-24 05:00...   \n",
       "\n",
       "                                                  3   \\\n",
       "0  {'units': 'min', 'data': [{'date': '2022-06-24...   \n",
       "\n",
       "                                                  4   \\\n",
       "0  {'units': 'degC', 'name': 'basal_body_temperat...   \n",
       "\n",
       "                                                  5   \\\n",
       "0  {'data': [{'date': '2022-06-24 00:10:00 +1000'...   \n",
       "\n",
       "                                                  6   \\\n",
       "0  {'name': 'blood_alcohol_content', 'units': '%'...   \n",
       "\n",
       "                                                  7   \\\n",
       "0  {'data': [], 'units': 'mmol/L', 'name': 'blood...   \n",
       "\n",
       "                                                  8   \\\n",
       "0  {'units': '%', 'name': 'blood_oxygen_saturatio...   \n",
       "\n",
       "                                                  9   ...  \\\n",
       "0  {'units': 'mmHg', 'name': 'blood_pressure', 'd...  ...   \n",
       "\n",
       "                                                  84  \\\n",
       "0  {'data': [], 'units': 'cm', 'name': 'waist_cir...   \n",
       "\n",
       "                                                  85  \\\n",
       "0  {'name': 'walking_running_distance', 'data': [...   \n",
       "\n",
       "                                                  86  \\\n",
       "0  {'units': '%', 'data': [{'qty': 0, 'date': '20...   \n",
       "\n",
       "                                                  87  \\\n",
       "0  {'units': '%', 'name': 'walking_double_support...   \n",
       "\n",
       "                                                  88  \\\n",
       "0  {'data': [{'date': '2022-06-24 00:04:00 +1000'...   \n",
       "\n",
       "                                                  89  \\\n",
       "0  {'name': 'walking_speed', 'units': 'km/hr', 'd...   \n",
       "\n",
       "                                                  90  \\\n",
       "0  {'data': [{'qty': 61, 'date': '2022-06-24 06:1...   \n",
       "\n",
       "                                                  91  \\\n",
       "0  {'name': 'weight_body_mass', 'units': 'kg', 'd...   \n",
       "\n",
       "                                                  92  \\\n",
       "0  {'units': 'km', 'data': [], 'name': 'wheelchai...   \n",
       "\n",
       "                                            93  \n",
       "0  {'units': 'mg', 'data': [], 'name': 'zinc'}  \n",
       "\n",
       "[1 rows x 94 columns]"
      ]
     },
     "execution_count": 77,
     "metadata": {},
     "output_type": "execute_result"
    }
   ],
   "source": [
    "pd.json_normalize(d['metrics'])"
   ]
  },
  {
   "cell_type": "code",
   "execution_count": null,
   "metadata": {},
   "outputs": [],
   "source": []
  },
  {
   "cell_type": "code",
   "execution_count": 81,
   "metadata": {},
   "outputs": [],
   "source": [
    "single_value = pd.json_normalize(d['metrics'])[91][0]"
   ]
  },
  {
   "cell_type": "code",
   "execution_count": 82,
   "metadata": {},
   "outputs": [
    {
     "data": {
      "text/plain": [
       "{'name': 'weight_body_mass', 'units': 'kg', 'data': []}"
      ]
     },
     "execution_count": 82,
     "metadata": {},
     "output_type": "execute_result"
    }
   ],
   "source": [
    "single_value"
   ]
  },
  {
   "cell_type": "code",
   "execution_count": 83,
   "metadata": {},
   "outputs": [],
   "source": [
    "single_data = pd.json_normalize(single_value)['data']"
   ]
  },
  {
   "cell_type": "code",
   "execution_count": 89,
   "metadata": {},
   "outputs": [
    {
     "data": {
      "text/plain": [
       "1"
      ]
     },
     "execution_count": 89,
     "metadata": {},
     "output_type": "execute_result"
    }
   ],
   "source": [
    "len(single_data)"
   ]
  },
  {
   "cell_type": "code",
   "execution_count": 90,
   "metadata": {},
   "outputs": [],
   "source": [
    "if len(single_data) == 1: \n",
    "    0\n",
    "else:\n",
    "    pd.DataFrame.from_dict(single_data)['qty'].sum()"
   ]
  },
  {
   "cell_type": "code",
   "execution_count": 86,
   "metadata": {},
   "outputs": [
    {
     "ename": "KeyError",
     "evalue": "'qty'",
     "output_type": "error",
     "traceback": [
      "\u001b[0;31m---------------------------------------------------------------------------\u001b[0m",
      "\u001b[0;31mKeyError\u001b[0m                                  Traceback (most recent call last)",
      "File \u001b[0;32m~/miniconda/envs/apple-health/lib/python3.10/site-packages/pandas/core/indexes/base.py:3621\u001b[0m, in \u001b[0;36mIndex.get_loc\u001b[0;34m(self, key, method, tolerance)\u001b[0m\n\u001b[1;32m   3620\u001b[0m \u001b[39mtry\u001b[39;00m:\n\u001b[0;32m-> 3621\u001b[0m     \u001b[39mreturn\u001b[39;00m \u001b[39mself\u001b[39;49m\u001b[39m.\u001b[39;49m_engine\u001b[39m.\u001b[39;49mget_loc(casted_key)\n\u001b[1;32m   3622\u001b[0m \u001b[39mexcept\u001b[39;00m \u001b[39mKeyError\u001b[39;00m \u001b[39mas\u001b[39;00m err:\n",
      "File \u001b[0;32m~/miniconda/envs/apple-health/lib/python3.10/site-packages/pandas/_libs/index.pyx:136\u001b[0m, in \u001b[0;36mpandas._libs.index.IndexEngine.get_loc\u001b[0;34m()\u001b[0m\n",
      "File \u001b[0;32m~/miniconda/envs/apple-health/lib/python3.10/site-packages/pandas/_libs/index.pyx:163\u001b[0m, in \u001b[0;36mpandas._libs.index.IndexEngine.get_loc\u001b[0;34m()\u001b[0m\n",
      "File \u001b[0;32mpandas/_libs/hashtable_class_helper.pxi:5198\u001b[0m, in \u001b[0;36mpandas._libs.hashtable.PyObjectHashTable.get_item\u001b[0;34m()\u001b[0m\n",
      "File \u001b[0;32mpandas/_libs/hashtable_class_helper.pxi:5206\u001b[0m, in \u001b[0;36mpandas._libs.hashtable.PyObjectHashTable.get_item\u001b[0;34m()\u001b[0m\n",
      "\u001b[0;31mKeyError\u001b[0m: 'qty'",
      "\nThe above exception was the direct cause of the following exception:\n",
      "\u001b[0;31mKeyError\u001b[0m                                  Traceback (most recent call last)",
      "\u001b[1;32m/Users/ntonthat/Documents/scratch/apple_health_export/apple-health.ipynb Cell 13'\u001b[0m in \u001b[0;36m<cell line: 1>\u001b[0;34m()\u001b[0m\n\u001b[0;32m----> <a href='vscode-notebook-cell:/Users/ntonthat/Documents/scratch/apple_health_export/apple-health.ipynb#ch0000005?line=0'>1</a>\u001b[0m pd\u001b[39m.\u001b[39;49mDataFrame\u001b[39m.\u001b[39;49mfrom_dict(single_data)[\u001b[39m'\u001b[39;49m\u001b[39mqty\u001b[39;49m\u001b[39m'\u001b[39;49m]\u001b[39m.\u001b[39msum()\n",
      "File \u001b[0;32m~/miniconda/envs/apple-health/lib/python3.10/site-packages/pandas/core/frame.py:3505\u001b[0m, in \u001b[0;36mDataFrame.__getitem__\u001b[0;34m(self, key)\u001b[0m\n\u001b[1;32m   3503\u001b[0m \u001b[39mif\u001b[39;00m \u001b[39mself\u001b[39m\u001b[39m.\u001b[39mcolumns\u001b[39m.\u001b[39mnlevels \u001b[39m>\u001b[39m \u001b[39m1\u001b[39m:\n\u001b[1;32m   3504\u001b[0m     \u001b[39mreturn\u001b[39;00m \u001b[39mself\u001b[39m\u001b[39m.\u001b[39m_getitem_multilevel(key)\n\u001b[0;32m-> 3505\u001b[0m indexer \u001b[39m=\u001b[39m \u001b[39mself\u001b[39;49m\u001b[39m.\u001b[39;49mcolumns\u001b[39m.\u001b[39;49mget_loc(key)\n\u001b[1;32m   3506\u001b[0m \u001b[39mif\u001b[39;00m is_integer(indexer):\n\u001b[1;32m   3507\u001b[0m     indexer \u001b[39m=\u001b[39m [indexer]\n",
      "File \u001b[0;32m~/miniconda/envs/apple-health/lib/python3.10/site-packages/pandas/core/indexes/base.py:3623\u001b[0m, in \u001b[0;36mIndex.get_loc\u001b[0;34m(self, key, method, tolerance)\u001b[0m\n\u001b[1;32m   3621\u001b[0m     \u001b[39mreturn\u001b[39;00m \u001b[39mself\u001b[39m\u001b[39m.\u001b[39m_engine\u001b[39m.\u001b[39mget_loc(casted_key)\n\u001b[1;32m   3622\u001b[0m \u001b[39mexcept\u001b[39;00m \u001b[39mKeyError\u001b[39;00m \u001b[39mas\u001b[39;00m err:\n\u001b[0;32m-> 3623\u001b[0m     \u001b[39mraise\u001b[39;00m \u001b[39mKeyError\u001b[39;00m(key) \u001b[39mfrom\u001b[39;00m \u001b[39merr\u001b[39;00m\n\u001b[1;32m   3624\u001b[0m \u001b[39mexcept\u001b[39;00m \u001b[39mTypeError\u001b[39;00m:\n\u001b[1;32m   3625\u001b[0m     \u001b[39m# If we have a listlike key, _check_indexing_error will raise\u001b[39;00m\n\u001b[1;32m   3626\u001b[0m     \u001b[39m#  InvalidIndexError. Otherwise we fall through and re-raise\u001b[39;00m\n\u001b[1;32m   3627\u001b[0m     \u001b[39m#  the TypeError.\u001b[39;00m\n\u001b[1;32m   3628\u001b[0m     \u001b[39mself\u001b[39m\u001b[39m.\u001b[39m_check_indexing_error(key)\n",
      "\u001b[0;31mKeyError\u001b[0m: 'qty'"
     ]
    }
   ],
   "source": [
    "pd.DataFrame.from_dict(single_data)['qty'].sum()"
   ]
  },
  {
   "cell_type": "code",
   "execution_count": 97,
   "metadata": {},
   "outputs": [
    {
     "data": {
      "text/html": [
       "<div>\n",
       "<style scoped>\n",
       "    .dataframe tbody tr th:only-of-type {\n",
       "        vertical-align: middle;\n",
       "    }\n",
       "\n",
       "    .dataframe tbody tr th {\n",
       "        vertical-align: top;\n",
       "    }\n",
       "\n",
       "    .dataframe thead th {\n",
       "        text-align: right;\n",
       "    }\n",
       "</style>\n",
       "<table border=\"1\" class=\"dataframe\">\n",
       "  <thead>\n",
       "    <tr style=\"text-align: right;\">\n",
       "      <th></th>\n",
       "      <th>units</th>\n",
       "      <th>data</th>\n",
       "      <th>name</th>\n",
       "    </tr>\n",
       "  </thead>\n",
       "  <tbody>\n",
       "    <tr>\n",
       "      <th>0</th>\n",
       "      <td>km</td>\n",
       "      <td>[]</td>\n",
       "      <td>wheelchair_distance</td>\n",
       "    </tr>\n",
       "  </tbody>\n",
       "</table>\n",
       "</div>"
      ],
      "text/plain": [
       "  units data                 name\n",
       "0    km   []  wheelchair_distance"
      ]
     },
     "execution_count": 97,
     "metadata": {},
     "output_type": "execute_result"
    }
   ],
   "source": [
    "json_data"
   ]
  },
  {
   "cell_type": "code",
   "execution_count": 109,
   "metadata": {},
   "outputs": [
    {
     "ename": "TypeError",
     "evalue": "'numpy.ndarray' object is not callable",
     "output_type": "error",
     "traceback": [
      "\u001b[0;31m---------------------------------------------------------------------------\u001b[0m",
      "\u001b[0;31mTypeError\u001b[0m                                 Traceback (most recent call last)",
      "\u001b[1;32m/Users/ntonthat/Documents/scratch/apple_health_export/apple-health.ipynb Cell 16'\u001b[0m in \u001b[0;36m<cell line: 3>\u001b[0;34m()\u001b[0m\n\u001b[1;32m      <a href='vscode-notebook-cell:/Users/ntonthat/Documents/scratch/apple_health_export/apple-health.ipynb#ch0000021?line=0'>1</a>\u001b[0m new \u001b[39m=\u001b[39m []\n\u001b[0;32m----> <a href='vscode-notebook-cell:/Users/ntonthat/Documents/scratch/apple_health_export/apple-health.ipynb#ch0000021?line=2'>3</a>\u001b[0m \u001b[39mfor\u001b[39;00m v \u001b[39min\u001b[39;00m json_data\u001b[39m.\u001b[39;49mvalues():\n\u001b[1;32m      <a href='vscode-notebook-cell:/Users/ntonthat/Documents/scratch/apple_health_export/apple-health.ipynb#ch0000021?line=3'>4</a>\u001b[0m     temp \u001b[39m=\u001b[39m {\u001b[39m*\u001b[39m\u001b[39m*\u001b[39mv}           \u001b[39m# This is intended to keep all the other data that might be there\u001b[39;00m\n\u001b[1;32m      <a href='vscode-notebook-cell:/Users/ntonthat/Documents/scratch/apple_health_export/apple-health.ipynb#ch0000021?line=4'>5</a>\u001b[0m     ids \u001b[39m=\u001b[39m temp\u001b[39m.\u001b[39mpop(\u001b[39m'\u001b[39m\u001b[39mIDs\u001b[39m\u001b[39m'\u001b[39m)  \u001b[39m# I have to focus on this to create the records\u001b[39;00m\n",
      "\u001b[0;31mTypeError\u001b[0m: 'numpy.ndarray' object is not callable"
     ]
    }
   ],
   "source": [
    "new = []\n",
    "\n",
    "for v in json_data.values():\n",
    "    temp = {**v}           # This is intended to keep all the other data that might be there\n",
    "    ids = temp.pop('IDs')  # I have to focus on this to create the records\n",
    "    temp['IDs'] = [dict(zip(ids, x)) for x in zip(*ids.values())]\n",
    "    new.append(temp)\n"
   ]
  },
  {
   "cell_type": "code",
   "execution_count": null,
   "metadata": {},
   "outputs": [],
   "source": [
    "import pandas as pd\n",
    "\n",
    "# test data\n",
    "data =\\\n",
    "{1: {'IDs': {'BookID': ['543533254353'],\n",
    "             'SalesID': ['543267765345'],\n",
    "             'StoreID': ['123445452543']},\n",
    "     'Name': 'Thrilling Tales of Dragon Slayers'},\n",
    " 2: {'IDs': {'BookID': ['543533254353', '4324232342'],\n",
    "             'SalesID': ['543267765345', '4353543'],\n",
    "             'StoreID': ['111111', '1121111']},\n",
    "     'Name': 'boring Tales of Dragon Slayers'}}\n",
    "\n",
    "# load the data using from_dict\n",
    "df = pd.DataFrame.from_dict(data, orient='index').reset_index(drop=True)\n",
    "\n",
    "# convert IDs to separate columns\n",
    "df = df.join(pd.DataFrame(df.pop('IDs').values.tolist()))\n",
    "\n",
    "# explode the list in each column\n",
    "df = df.apply(pd.Series.explode).reset_index(drop=True)\n",
    "\n",
    "# display(df)\n"
   ]
  },
  {
   "cell_type": "code",
   "execution_count": 121,
   "metadata": {},
   "outputs": [
    {
     "data": {
      "text/plain": [
       "pandas.core.series.Series"
      ]
     },
     "execution_count": 121,
     "metadata": {},
     "output_type": "execute_result"
    }
   ],
   "source": [
    "type(d['metrics'])"
   ]
  },
  {
   "cell_type": "code",
   "execution_count": 122,
   "metadata": {},
   "outputs": [
    {
     "data": {
      "text/html": [
       "<div>\n",
       "<style scoped>\n",
       "    .dataframe tbody tr th:only-of-type {\n",
       "        vertical-align: middle;\n",
       "    }\n",
       "\n",
       "    .dataframe tbody tr th {\n",
       "        vertical-align: top;\n",
       "    }\n",
       "\n",
       "    .dataframe thead th {\n",
       "        text-align: right;\n",
       "    }\n",
       "</style>\n",
       "<table border=\"1\" class=\"dataframe\">\n",
       "  <thead>\n",
       "    <tr style=\"text-align: right;\">\n",
       "      <th></th>\n",
       "      <th>0</th>\n",
       "      <th>1</th>\n",
       "      <th>2</th>\n",
       "      <th>3</th>\n",
       "      <th>4</th>\n",
       "      <th>5</th>\n",
       "      <th>6</th>\n",
       "      <th>7</th>\n",
       "      <th>8</th>\n",
       "      <th>9</th>\n",
       "      <th>...</th>\n",
       "      <th>84</th>\n",
       "      <th>85</th>\n",
       "      <th>86</th>\n",
       "      <th>87</th>\n",
       "      <th>88</th>\n",
       "      <th>89</th>\n",
       "      <th>90</th>\n",
       "      <th>91</th>\n",
       "      <th>92</th>\n",
       "      <th>93</th>\n",
       "    </tr>\n",
       "  </thead>\n",
       "  <tbody>\n",
       "    <tr>\n",
       "      <th>0</th>\n",
       "      <td>{'name': 'active_energy', 'units': 'kJ', 'data...</td>\n",
       "      <td>{'data': [{'qty': 1, 'date': '2022-06-24 07:23...</td>\n",
       "      <td>{'data': [{'qty': 1, 'date': '2022-06-24 05:00...</td>\n",
       "      <td>{'units': 'min', 'data': [{'date': '2022-06-24...</td>\n",
       "      <td>{'units': 'degC', 'name': 'basal_body_temperat...</td>\n",
       "      <td>{'data': [{'date': '2022-06-24 00:10:00 +1000'...</td>\n",
       "      <td>{'name': 'blood_alcohol_content', 'units': '%'...</td>\n",
       "      <td>{'data': [], 'units': 'mmol/L', 'name': 'blood...</td>\n",
       "      <td>{'units': '%', 'name': 'blood_oxygen_saturatio...</td>\n",
       "      <td>{'units': 'mmHg', 'name': 'blood_pressure', 'd...</td>\n",
       "      <td>...</td>\n",
       "      <td>{'data': [], 'units': 'cm', 'name': 'waist_cir...</td>\n",
       "      <td>{'name': 'walking_running_distance', 'data': [...</td>\n",
       "      <td>{'units': '%', 'data': [{'qty': 0, 'date': '20...</td>\n",
       "      <td>{'units': '%', 'name': 'walking_double_support...</td>\n",
       "      <td>{'data': [{'date': '2022-06-24 00:04:00 +1000'...</td>\n",
       "      <td>{'name': 'walking_speed', 'units': 'km/hr', 'd...</td>\n",
       "      <td>{'data': [{'qty': 61, 'date': '2022-06-24 06:1...</td>\n",
       "      <td>{'name': 'weight_body_mass', 'units': 'kg', 'd...</td>\n",
       "      <td>{'units': 'km', 'data': [], 'name': 'wheelchai...</td>\n",
       "      <td>{'units': 'mg', 'data': [], 'name': 'zinc'}</td>\n",
       "    </tr>\n",
       "  </tbody>\n",
       "</table>\n",
       "<p>1 rows × 94 columns</p>\n",
       "</div>"
      ],
      "text/plain": [
       "                                                  0   \\\n",
       "0  {'name': 'active_energy', 'units': 'kJ', 'data...   \n",
       "\n",
       "                                                  1   \\\n",
       "0  {'data': [{'qty': 1, 'date': '2022-06-24 07:23...   \n",
       "\n",
       "                                                  2   \\\n",
       "0  {'data': [{'qty': 1, 'date': '2022-06-24 05:00...   \n",
       "\n",
       "                                                  3   \\\n",
       "0  {'units': 'min', 'data': [{'date': '2022-06-24...   \n",
       "\n",
       "                                                  4   \\\n",
       "0  {'units': 'degC', 'name': 'basal_body_temperat...   \n",
       "\n",
       "                                                  5   \\\n",
       "0  {'data': [{'date': '2022-06-24 00:10:00 +1000'...   \n",
       "\n",
       "                                                  6   \\\n",
       "0  {'name': 'blood_alcohol_content', 'units': '%'...   \n",
       "\n",
       "                                                  7   \\\n",
       "0  {'data': [], 'units': 'mmol/L', 'name': 'blood...   \n",
       "\n",
       "                                                  8   \\\n",
       "0  {'units': '%', 'name': 'blood_oxygen_saturatio...   \n",
       "\n",
       "                                                  9   ...  \\\n",
       "0  {'units': 'mmHg', 'name': 'blood_pressure', 'd...  ...   \n",
       "\n",
       "                                                  84  \\\n",
       "0  {'data': [], 'units': 'cm', 'name': 'waist_cir...   \n",
       "\n",
       "                                                  85  \\\n",
       "0  {'name': 'walking_running_distance', 'data': [...   \n",
       "\n",
       "                                                  86  \\\n",
       "0  {'units': '%', 'data': [{'qty': 0, 'date': '20...   \n",
       "\n",
       "                                                  87  \\\n",
       "0  {'units': '%', 'name': 'walking_double_support...   \n",
       "\n",
       "                                                  88  \\\n",
       "0  {'data': [{'date': '2022-06-24 00:04:00 +1000'...   \n",
       "\n",
       "                                                  89  \\\n",
       "0  {'name': 'walking_speed', 'units': 'km/hr', 'd...   \n",
       "\n",
       "                                                  90  \\\n",
       "0  {'data': [{'qty': 61, 'date': '2022-06-24 06:1...   \n",
       "\n",
       "                                                  91  \\\n",
       "0  {'name': 'weight_body_mass', 'units': 'kg', 'd...   \n",
       "\n",
       "                                                  92  \\\n",
       "0  {'units': 'km', 'data': [], 'name': 'wheelchai...   \n",
       "\n",
       "                                            93  \n",
       "0  {'units': 'mg', 'data': [], 'name': 'zinc'}  \n",
       "\n",
       "[1 rows x 94 columns]"
      ]
     },
     "execution_count": 122,
     "metadata": {},
     "output_type": "execute_result"
    }
   ],
   "source": [
    "pd.json_normalize(d['metrics'],sep='_')"
   ]
  },
  {
   "cell_type": "code",
   "execution_count": 105,
   "metadata": {},
   "outputs": [],
   "source": [
    "metric_data = pd.json_normalize(d['metrics'])\n",
    "metric_map = {}\n",
    "json_data = pd.json_normalize(metric_data[92][0])\n",
    "qty_data = pd.json_normalize(json_data['data'])\n",
    "if len(qty_data) == 1: \n",
    "    agg_value = 0\n",
    "else: \n",
    "    agg_value = pd.DataFrame.from_dict(qty_data)['qty'].sum()\n",
    "# reset value to the aggregate value \n",
    "json_data['value'] = agg_value\n"
   ]
  },
  {
   "cell_type": "code",
   "execution_count": 125,
   "metadata": {},
   "outputs": [
    {
     "data": {
      "text/plain": [
       "<bound method DataFrame.to_records of   units data                 name  value\n",
       "0    km   []  wheelchair_distance      0>"
      ]
     },
     "execution_count": 125,
     "metadata": {},
     "output_type": "execute_result"
    }
   ],
   "source": []
  },
  {
   "cell_type": "code",
   "execution_count": 100,
   "metadata": {},
   "outputs": [
    {
     "data": {
      "text/plain": [
       "{'0    wheelchair_distance\\nName: name, dtype: object': 0}"
      ]
     },
     "execution_count": 100,
     "metadata": {},
     "output_type": "execute_result"
    }
   ],
   "source": [
    "metric_map"
   ]
  },
  {
   "cell_type": "code",
   "execution_count": 62,
   "metadata": {},
   "outputs": [
    {
     "data": {
      "text/plain": [
       "'active_energy'"
      ]
     },
     "execution_count": 62,
     "metadata": {},
     "output_type": "execute_result"
    }
   ],
   "source": [
    "def convert_to_df(json_data):\n",
    "    metric_data = pd.json_normalize(d['metrics'])\n",
    "    # create dictionary to map metric names to column names\n",
    "    for i in len(metric_data):\n",
    "        # for each metric - explode and flatten \n",
    "        json_data = pd.json_normalize(metric_data[i][0])\n",
    "        qty_data = pd.json_normalize(json_data['data'])\n",
    "        if len(qty_data) == 1: \n",
    "            value = 0\n",
    "        else: \n",
    "            value = pd.DataFrame.from_dict(qty_data)['qty'].sum()\n",
    "        metric_map[json_data['name']] = value\n",
    "    return df"
   ]
  },
  {
   "cell_type": "code",
   "execution_count": null,
   "metadata": {},
   "outputs": [],
   "source": []
  }
 ],
 "metadata": {
  "kernelspec": {
   "display_name": "Python 3.10.4 ('apple-health')",
   "language": "python",
   "name": "python3"
  },
  "language_info": {
   "codemirror_mode": {
    "name": "ipython",
    "version": 3
   },
   "file_extension": ".py",
   "mimetype": "text/x-python",
   "name": "python",
   "nbconvert_exporter": "python",
   "pygments_lexer": "ipython3",
   "version": "3.10.4"
  },
  "orig_nbformat": 4,
  "vscode": {
   "interpreter": {
    "hash": "ddda6a0d18a9b3fc98328479fa0f02298f3ee314ab17737b08e12607599e4108"
   }
  }
 },
 "nbformat": 4,
 "nbformat_minor": 2
}
