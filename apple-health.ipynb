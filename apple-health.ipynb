{
 "cells": [
  {
   "cell_type": "code",
   "execution_count": 525,
   "metadata": {},
   "outputs": [],
   "source": [
    "import pandas as pd\n",
    "import numpy as np\n",
    "import datetime\n",
    "from ics import Calendar, Event\n",
    "import boto3"
   ]
  },
  {
   "cell_type": "code",
   "execution_count": 6,
   "metadata": {},
   "outputs": [],
   "source": [
    "def ts_to_dt(ts):\n",
    "    return datetime.datetime.fromtimestamp(ts)"
   ]
  },
  {
   "cell_type": "code",
   "execution_count": 176,
   "metadata": {},
   "outputs": [],
   "source": [
    "def process_raw_data(file):\n",
    "    \"\"\"\n",
    "    Create [date, source] from file.\n",
    "    :param file: as exported by Auto Health Export\n",
    "    \"\"\"\n",
    "    df = pd.read_csv(file, sep = ',')\n",
    "    df['creation_date'] = ts_to_dt(file.stat().st_atime)\n",
    "    df['filename'] = file.name\n",
    "\n",
    "    return df"
   ]
  },
  {
   "cell_type": "code",
   "execution_count": 189,
   "metadata": {},
   "outputs": [],
   "source": [
    "def read_raw_files(str_path):\n",
    "    \"\"\"\n",
    "    Read all files in a directory and return a dataframe.\n",
    "    :param str_path: directory path as type string\n",
    "    \"\"\"\n",
    "    df = pd.DataFrame()\n",
    "    print('Reading files..')\n",
    "    for i in os.scandir(str_path):\n",
    "        if i.name.startswith('HealthAutoExport') and i.name.endswith('Data.csv'):\n",
    "            print(f'Reading: {i.name}')\n",
    "            df_tmp = process_raw_data(i)\n",
    "            df = pd.concat([df, df_tmp])\n",
    "\n",
    "    # concat results in weird indices\n",
    "    df = df.reset_index(drop=True)\n",
    "    return df "
   ]
  },
  {
   "cell_type": "markdown",
   "metadata": {},
   "source": [
    "### Transformations"
   ]
  },
  {
   "cell_type": "markdown",
   "metadata": {},
   "source": [
    "Functions to cleanse the data \n",
    "- Dedupe values\n",
    "- Cleanse trim all values to closest integer except for sleep and weight\n",
    "- Create the following columns\n",
    "  - `Calories`"
   ]
  },
  {
   "cell_type": "code",
   "execution_count": 491,
   "metadata": {},
   "outputs": [],
   "source": [
    "def create_numeric_cols(df):\n",
    "    \"\"\"\n",
    "    Calculates the total calories from the macros\n",
    "    Calculates the sleep efficiency\n",
    "    \"\"\"\n",
    "    df['calories'] = df['carbs'] * 4 + df['fat'] * 9 + df['protein'] * 4\n",
    "    df['sleep_eff'] = df['sleep_asleep'] / df['sleep_in_bed'] * 100\n",
    "    df['sleep_eff'] = df['sleep_eff'].fillna(0)\n",
    "    df['sleep_eff'] = df['sleep_eff'].astype(int)\n",
    "\n",
    "    return df"
   ]
  },
  {
   "cell_type": "code",
   "execution_count": 492,
   "metadata": {},
   "outputs": [],
   "source": [
    "def round_df(df):\n",
    "    \"\"\"\n",
    "    Round all numerical columns to closest integer except for one d.p. cols \n",
    "    Replaces all NaN with null\n",
    "    \"\"\"\n",
    "    one_dp_cols = ['sleep_asleep', 'sleep_in_bed', 'weight']\n",
    "    for i in df.columns:\n",
    "        if df[i].dtypes == 'float64':\n",
    "            if i in one_dp_cols: \n",
    "                df[i] = df[i].round(1)\n",
    "            else:\n",
    "                df[i] = df[i].astype(int)\n",
    "\n",
    "    df = df.replace({np.nan: None})\n",
    "    return df"
   ]
  },
  {
   "cell_type": "code",
   "execution_count": 493,
   "metadata": {},
   "outputs": [],
   "source": [
    "def convert_column_types(df): \n",
    "    \"\"\"\n",
    "    Convert certain columns to be a certain type \n",
    "    \"\"\"\n",
    "    df['date'] = pd.to_datetime(df['date']).dt.date\n",
    "\n",
    "    # force apply float64 type for weight \n",
    "    df['weight'] = df['weight'].astype(float)\n",
    "\n",
    "    return df"
   ]
  },
  {
   "cell_type": "code",
   "execution_count": 494,
   "metadata": {},
   "outputs": [],
   "source": [
    "def rename_columns(df):\n",
    "    \"\"\"\n",
    "    Rename columns for easier reference\n",
    "    Styling follows lowercase and no units with spaces being replaced by _\n",
    "    \"\"\"\n",
    "    d_col_rename = {\n",
    "        'Date': 'date',\n",
    "        'Carbohydrates (g)': 'carbs',\n",
    "        'Protein (g)': 'protein',\n",
    "        'Total Fat (g)': 'fat',\n",
    "        'Sleep Analysis [In Bed] (hr)': 'sleep_in_bed',\n",
    "        'Sleep Analysis [Asleep] (hr)': 'sleep_asleep',\n",
    "        'Step Count (count)': 'steps',\n",
    "        'Weight & Body Mass (kg) ': 'weight'\n",
    "    }\n",
    "\n",
    "    df.rename(columns=d_col_rename, inplace=True)\n",
    "\n",
    "    # fill in values \n",
    "    df = df.replace(r'^\\s+$', np.nan, regex=True)\n",
    "\n",
    "    # convert column types \n",
    "    df = convert_column_types(df)\n",
    "    return df"
   ]
  },
  {
   "cell_type": "code",
   "execution_count": 495,
   "metadata": {},
   "outputs": [],
   "source": [
    "def dedup_df(df):\n",
    "    \"\"\"\n",
    "    Remove duplicates ordering by 'date' and 'creation_date' and then keep only the latest \n",
    "    \"\"\"\n",
    "    df_sort = df.sort_values(['date', 'creation_date'], ascending= True)\n",
    "    df_dedup = df_sort.drop_duplicates(subset = 'date', keep = 'last')\n",
    "\n",
    "    return df_dedup"
   ]
  },
  {
   "cell_type": "code",
   "execution_count": 506,
   "metadata": {},
   "outputs": [],
   "source": [
    "def create_description_cols(df): \n",
    "    \"\"\"\n",
    "    Create description columns for the generating events\n",
    "    \"\"\"\n",
    "    # convert all columns to strings for easy manipulation\n",
    "    df_1 = df.astype(str)\n",
    "\n",
    "    food_macros = \"(\" + df_1['carbs'] + \"C/\" + df_1['protein'] + \"P/\" + df_1['fat'] + \"F\" + \")\"\n",
    "    df['food'] = df_1['calories'] + \" calories \" + food_macros\n",
    "    df['activity'] = df_1['steps'] + \" steps\"\n",
    "    \n",
    "    df['sleep'] = df_1['sleep_asleep'] + \" h\" + \" (\" + df_1['sleep_eff'] + \"% eff.)\"\n",
    "    df['sleep'] = df['sleep'].replace('None h (0% eff.)', 'No sleep data.')\n",
    "    \n",
    "    return df"
   ]
  },
  {
   "cell_type": "code",
   "execution_count": 544,
   "metadata": {},
   "outputs": [],
   "source": [
    "def generate_calendar(df, **kwargs): \n",
    "    \"\"\"\n",
    "    Generates a CSV and ICS from the dataframe\n",
    "    :param df: cleansed dataframe from `create_description_cols`\n",
    "    \"\"\"\n",
    "    df_event = df[['date', 'food', 'activity', 'sleep']].melt(\n",
    "        id_vars = ['date'], \n",
    "        value_vars = ['food', 'activity', 'sleep'], \n",
    "        var_name = 'type', \n",
    "        value_name = 'description'\n",
    "    )\n",
    "    output_file = kwargs['output_path'] + \"/\" + kwargs['file_name'] + '.csv'\n",
    "    df_event.to_csv(output_file)\n",
    "\n",
    "    c = Calendar()\n",
    "    for _, row in df_event.iterrows(): \n",
    "        e = create_event(row['date'], row['type'], row['description'])\n",
    "        c.events.add(e)\n",
    "\n",
    "    with open(kwargs['file_name'] + '.ics', 'w') as f:\n",
    "        f.write(str(c))\n",
    "        f.close()\n",
    "\n",
    "    return df "
   ]
  },
  {
   "cell_type": "code",
   "execution_count": 545,
   "metadata": {},
   "outputs": [],
   "source": [
    "def transform(df, **kwargs):\n",
    "    \"\"\"\n",
    "    Round all numerical columns to closest integer except for sleep times and weight\n",
    "    :param df: dataframe from the read_raw_files function \n",
    "    \"\"\"\n",
    "    if len(df) > 0: \n",
    "        df = rename_columns(df)\n",
    "        df = round_df(df)\n",
    "        df = dedup_df(df)\n",
    "        df = create_numeric_cols(df)\n",
    "        df = create_description_cols(df)\n",
    "        df = generate_calendar(df, **kwargs)\n",
    "        return df"
   ]
  },
  {
   "cell_type": "code",
   "execution_count": 548,
   "metadata": {},
   "outputs": [],
   "source": [
    "def etl_raw_data(**kwargs):\n",
    "    \"\"\"\n",
    "    Perform ETL on Apple Health data\n",
    "    :param input_path: directory path as type string\n",
    "    \"\"\"\n",
    "    # read all files in directory\n",
    "    input_path = kwargs.get('input_path', os.getcwd())\n",
    "    output_path = kwargs.get('output_path', os.getcwd())\n",
    "    file_name = kwargs.get('file_name', 'apple-health-calendar')\n",
    "    \n",
    "    df = read_raw_files(input_path)\n",
    "    \n",
    "    df = transform(df, output_path = output_path, file_name = file_name)\n",
    "\n",
    "    return df"
   ]
  },
  {
   "cell_type": "code",
   "execution_count": 551,
   "metadata": {},
   "outputs": [],
   "source": [
    "def create_event(date, type, description):\n",
    "    \"\"\"\n",
    "    Create an all day event for the given date and type\n",
    "    :param date: date as type datetime.date\n",
    "    :param type: type of event as type string\n",
    "    :param description: description of event as type string\n",
    "    \"\"\"\n",
    "    if type == 'sleep':\n",
    "        emoticon = \"💤\"\n",
    "    if type == 'activity':\n",
    "        emoticon = \"🔥\"\n",
    "    if type == 'food':\n",
    "        emoticon = \"🥞\"\n",
    "\n",
    "    all_day_date = str(date) + \" 00:00:00\"\n",
    "    e = Event()\n",
    "    e.name = emoticon + \" \" + description\n",
    "    e.begin = all_day_date\n",
    "    e.end = all_day_date\n",
    "    e.make_all_day()\n",
    "\n",
    "    return e"
   ]
  },
  {
   "cell_type": "code",
   "execution_count": null,
   "metadata": {},
   "outputs": [],
   "source": []
  }
 ],
 "metadata": {
  "kernelspec": {
   "display_name": "Python 3.10.4 ('apple-health')",
   "language": "python",
   "name": "python3"
  },
  "language_info": {
   "codemirror_mode": {
    "name": "ipython",
    "version": 3
   },
   "file_extension": ".py",
   "mimetype": "text/x-python",
   "name": "python",
   "nbconvert_exporter": "python",
   "pygments_lexer": "ipython3",
   "version": "3.10.4"
  },
  "orig_nbformat": 4,
  "vscode": {
   "interpreter": {
    "hash": "ddda6a0d18a9b3fc98328479fa0f02298f3ee314ab17737b08e12607599e4108"
   }
  }
 },
 "nbformat": 4,
 "nbformat_minor": 2
}
