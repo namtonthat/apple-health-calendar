{
 "cells": [
  {
   "cell_type": "code",
   "execution_count": 1,
   "metadata": {},
   "outputs": [],
   "source": [
    "import logging \n",
    "import pandas as pd\n",
    "import boto3\n",
    "import json "
   ]
  },
  {
   "cell_type": "code",
   "execution_count": 2,
   "metadata": {},
   "outputs": [],
   "source": [
    "def get_s3_keys(bucket):\n",
    "    \"\"\"Get a list of keys in an S3 bucket.\"\"\"\n",
    "    keys = []\n",
    "    personal = boto3.Session(profile_name='personal')\n",
    "    s3 = personal.client('s3')\n",
    "    resp = s3.list_objects(Bucket=bucket)\n",
    "    print(resp)\n",
    "    for obj in resp['Contents']:\n",
    "        keys.append(obj['Key'])\n",
    "    print(keys)\n",
    "    return keys"
   ]
  },
  {
   "cell_type": "code",
   "execution_count": 3,
   "metadata": {},
   "outputs": [
    {
     "name": "stdout",
     "output_type": "stream",
     "text": [
      "{'ResponseMetadata': {'RequestId': 'KXNYY54PHZR7N8MK', 'HostId': 'kKOa74SJgTfLEcL9yI1SXD5Aj5opOL9DtQKiHcNrAuJHNuqnMXRBfyPuR2NQvjRbyX7zrkjgKu/aCTz2pjN3tg==', 'HTTPStatusCode': 200, 'HTTPHeaders': {'x-amz-id-2': 'kKOa74SJgTfLEcL9yI1SXD5Aj5opOL9DtQKiHcNrAuJHNuqnMXRBfyPuR2NQvjRbyX7zrkjgKu/aCTz2pjN3tg==', 'x-amz-request-id': 'KXNYY54PHZR7N8MK', 'date': 'Thu, 26 Jan 2023 02:43:19 GMT', 'x-amz-bucket-region': 'ap-southeast-2', 'content-type': 'application/xml', 'transfer-encoding': 'chunked', 'server': 'AmazonS3'}, 'RetryAttempts': 1}, 'IsTruncated': False, 'Marker': '', 'Contents': [{'Key': 'syncs/2023-01-18T09:39:59.479199.json', 'LastModified': datetime.datetime(2023, 1, 18, 9, 40, tzinfo=tzutc()), 'ETag': '\"0d0f1154d6f64884df537e9b8a766cea\"', 'Size': 73299, 'StorageClass': 'STANDARD', 'Owner': {'DisplayName': 'n.nam.tonthat', 'ID': '549df8ab0220b17c8be5925e3d728862c3523e77344f2b4e32078a6e2c4477ee'}}, {'Key': 'workouts/2023-01-18T09:39:59.828797.json', 'LastModified': datetime.datetime(2023, 1, 18, 9, 40, tzinfo=tzutc()), 'ETag': '\"d41d8cd98f00b204e9800998ecf8427e\"', 'Size': 0, 'StorageClass': 'STANDARD', 'Owner': {'DisplayName': 'n.nam.tonthat', 'ID': '549df8ab0220b17c8be5925e3d728862c3523e77344f2b4e32078a6e2c4477ee'}}], 'Name': 'ntonthat-apple-health-data', 'Prefix': '', 'MaxKeys': 1000, 'EncodingType': 'url'}\n",
      "['syncs/2023-01-18T09:39:59.479199.json', 'workouts/2023-01-18T09:39:59.828797.json']\n"
     ]
    },
    {
     "data": {
      "text/plain": [
       "['syncs/2023-01-18T09:39:59.479199.json',\n",
       " 'workouts/2023-01-18T09:39:59.828797.json']"
      ]
     },
     "execution_count": 3,
     "metadata": {},
     "output_type": "execute_result"
    }
   ],
   "source": [
    "get_s3_keys(bucket='ntonthat-apple-health-data')"
   ]
  },
  {
   "cell_type": "code",
   "execution_count": 6,
   "metadata": {},
   "outputs": [],
   "source": [
    "def load_json_from_s3(bucket, key):\n",
    "    personal = boto3.Session(profile_name='personal')\n",
    "    s3 = personal.resource('s3')\n",
    "    \n",
    "    obj = s3.Object(bucket, key)\n",
    "    body = obj.get()['Body']\n",
    "    body = body.read().decode('utf-8')\n",
    "    return body"
   ]
  },
  {
   "cell_type": "code",
   "execution_count": 9,
   "metadata": {},
   "outputs": [],
   "source": [
    "def create_parquets(event): \n",
    "    # s3 = boto3.resource('s3')\n",
    "    personal = boto3.Session(profile_name='personal')\n",
    "    s3 = personal.resource('s3')\n",
    "    \n",
    "    logging.info('Reading s3 event trigger')\n",
    "    event = json.loads(open(f'{event}', 'r').read())\n",
    "    \n",
    "    key = event.get(\"Records\")[0].get('s3').get('object').get('key')\n",
    "    bucket = event.get(\"Records\")[0].get('s3').get('bucket').get('name')\n",
    "    # get_s3_keys(bucket)\n",
    "    # convert contents to native python string\n",
    "    json_data = load_json_from_s3(bucket, key)\n",
    "    \n",
    "    source_data = []\n",
    "    \n",
    "    for line in json_data.splitlines(): \n",
    "        source_data.append(json.loads(line))\n",
    "        \n",
    "    logging.info('Converting to dataframe')\n",
    "    df = pd.DataFrame.from_records(source_data)\n",
    "    \n",
    "    # force conversion types\n",
    "    df['qty'] = df['qty'].astype(str)\n",
    "    \n",
    "    logging.info('Converting to parquet')\n",
    "    \n",
    "    # write to parquet\n",
    "    df.to_parquet('ahc.parquet')\n",
    "    \n",
    "    s3.meta.client.upload_file('ahc.parquet', 'ntonthat-apple-health-data', 'parquets/ahc.parquet')\n",
    "    return "
   ]
  },
  {
   "cell_type": "code",
   "execution_count": 10,
   "metadata": {},
   "outputs": [],
   "source": [
    "create_parquets('flask/healthlake/s3-trigger-event.json')"
   ]
  },
  {
   "cell_type": "code",
   "execution_count": 67,
   "metadata": {},
   "outputs": [],
   "source": [
    "import json \n",
    "import os\n",
    "from dataclasses import dataclass\n",
    "from datetime import datetime\n",
    "from typing import Optional"
   ]
  },
  {
   "cell_type": "code",
   "execution_count": 74,
   "metadata": {},
   "outputs": [],
   "source": [
    "event_trigger_path = 'flask/healthlake/s3-trigger-event.json'"
   ]
  },
  {
   "cell_type": "code",
   "execution_count": 75,
   "metadata": {},
   "outputs": [],
   "source": [
    "event_trigger = json.load(open(event_trigger_path, 'r'))"
   ]
  },
  {
   "cell_type": "code",
   "execution_count": 105,
   "metadata": {},
   "outputs": [],
   "source": []
  },
  {
   "cell_type": "code",
   "execution_count": 64,
   "metadata": {},
   "outputs": [],
   "source": [
    "@dataclass\n",
    "class AppleHealthData:\n",
    "    \"\"\"Dataclass for Apple Health Data\"\"\"\n",
    "    date: str\n",
    "    date_updated: str\n",
    "    name: str\n",
    "    qty: float\n",
    "    units: str\n",
    "    source: Optional[str] = None\n",
    "    \n",
    "    def __post_init__(self): \n",
    "        self.date = datetime.strptime(self.date, '%Y-%m-%d %H:%M:%S %z')\n",
    "        self.date_updated = datetime.strptime(self.date_updated, '%Y-%m-%d %H:%M:%S.%f')"
   ]
  },
  {
   "cell_type": "code",
   "execution_count": 38,
   "metadata": {},
   "outputs": [],
   "source": [
    "json_path = 'flask/healthlake/2023-01-18T09:39:59.479199.json'"
   ]
  },
  {
   "cell_type": "code",
   "execution_count": 62,
   "metadata": {},
   "outputs": [],
   "source": [
    "source_data = []\n",
    "with open(json_path, 'r') as file: \n",
    "    for line in file: \n",
    "        source_data.append(json.loads(line))\n",
    "        \n",
    "pd.DataFrame.from_records(source_data)"
   ]
  },
  {
   "cell_type": "code",
   "execution_count": 66,
   "metadata": {},
   "outputs": [],
   "source": [
    "for item in source_data: \n",
    "    AppleHealthData(**item)"
   ]
  },
  {
   "cell_type": "code",
   "execution_count": 95,
   "metadata": {},
   "outputs": [],
   "source": [
    "df = pd.DataFrame.from_records(source_data)"
   ]
  },
  {
   "cell_type": "code",
   "execution_count": 101,
   "metadata": {},
   "outputs": [],
   "source": [
    "df['qty'] = df['qty'].astype(str)"
   ]
  },
  {
   "cell_type": "code",
   "execution_count": 102,
   "metadata": {},
   "outputs": [],
   "source": [
    "df.to_parquet('ahc.parquet')"
   ]
  },
  {
   "cell_type": "code",
   "execution_count": null,
   "metadata": {},
   "outputs": [],
   "source": []
  }
 ],
 "metadata": {
  "kernelspec": {
   "display_name": "apple-health-calendar",
   "language": "python",
   "name": "apple-health-calendar"
  },
  "language_info": {
   "codemirror_mode": {
    "name": "ipython",
    "version": 3
   },
   "file_extension": ".py",
   "mimetype": "text/x-python",
   "name": "python",
   "nbconvert_exporter": "python",
   "pygments_lexer": "ipython3",
   "version": "3.11.1"
  },
  "orig_nbformat": 4
 },
 "nbformat": 4,
 "nbformat_minor": 2
}
