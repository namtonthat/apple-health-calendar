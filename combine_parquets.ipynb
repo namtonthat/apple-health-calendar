{
 "cells": [
  {
   "cell_type": "code",
   "execution_count": 1,
   "metadata": {},
   "outputs": [],
   "source": [
    "import boto3 \n"
   ]
  },
  {
   "cell_type": "code",
   "execution_count": null,
   "metadata": {},
   "outputs": [],
   "source": [
    "def combine_parquets(event): \n",
    "    s3 = boto3.resource('s3')\n",
    "    \n",
    "    "
   ]
  }
 ],
 "metadata": {
  "kernelspec": {
   "display_name": "apple-health-calendar",
   "language": "python",
   "name": "apple-health-calendar"
  },
  "language_info": {
   "codemirror_mode": {
    "name": "ipython",
    "version": 3
   },
   "file_extension": ".py",
   "mimetype": "text/x-python",
   "name": "python",
   "nbconvert_exporter": "python",
   "pygments_lexer": "ipython3",
   "version": "3.11.1"
  },
  "orig_nbformat": 4,
  "vscode": {
   "interpreter": {
    "hash": "a0e2383685b4c06421b38aa5cf9c9f323743110f8faa33364724836b9557e078"
   }
  }
 },
 "nbformat": 4,
 "nbformat_minor": 2
}
